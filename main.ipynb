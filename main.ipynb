{
 "cells": [
  {
   "cell_type": "code",
   "execution_count": null,
   "metadata": {},
   "outputs": [],
   "source": [
    "# SncRNA 3’-ends\n",
    "# snoRNAs\n",
    "\n",
    "# https://www.ncbi.nlm.nih.gov/gene/167153\n",
    "# https://github.com/yuma-m/synthesizer\n",
    "# https://www.rcsb.org/structure/6LBJ\n",
    "import numpy as np"
   ]
  },
  {
   "cell_type": "code",
   "execution_count": 2,
   "metadata": {},
   "outputs": [],
   "source": [
    "import requests\n",
    "\n",
    "protein_ID = '6LBJ'\n",
    "url = 'https://files.rcsb.org/download/{}.pdb'.format(protein_ID.lower())\n",
    "response = requests.get(url)\n",
    "data = response.text\n",
    "text = data.split(\"\\n\") #split data into array using newline as delimiter"
   ]
  },
  {
   "cell_type": "code",
   "execution_count": 3,
   "metadata": {},
   "outputs": [],
   "source": [
    "# Dictionary to be used for converting amino acid abbreviations\n",
    "aa_3to1 = {'CYS': 'C', 'ASP': 'D', 'SER': 'S',\n",
    "'GLN': 'Q', 'LYS':'K','ILE': 'I', 'PRO': 'P',\n",
    " 'THR': 'T', 'PHE': 'F', 'ASN': 'N', 'GLY': 'G',\n",
    " 'HIS': 'H', 'LEU': 'L', 'ARG': 'R', 'TRP': 'W',\n",
    " 'ALA': 'A', 'VAL':'V', 'GLU': 'E', 'TYR': 'Y', 'MET': 'M'}"
   ]
  },
  {
   "cell_type": "code",
   "execution_count": 4,
   "metadata": {},
   "outputs": [],
   "source": [
    "import re\n",
    "coordinates = []\n",
    "protein_seq = []\n",
    "for line in text:\n",
    "    if re.match('ATOM',line):       # Matches lines beginning with 'ATOM'\n",
    "        if(line[13:15] == 'CA'):    # Matches lines with c-alpha coordinates\n",
    "            # Extract x, y, and z coordinates and append to list\n",
    "            x = float(line[32:38])      \n",
    "            y = float(line[40:46])     \n",
    "            z = float(line[48:54])     \n",
    "            coordinates.append([x,y,z]) \n",
    "            # Extract amino acid sequence and append to list\n",
    "            aa = aa_3to1[line[17:20]]\n",
    "            protein_seq.append(aa)"
   ]
  },
  {
   "cell_type": "code",
   "execution_count": 5,
   "metadata": {},
   "outputs": [],
   "source": [
    "import pandas as pd\n",
    "nu_df = pd.read_csv('aa_freq.csv', sep=',',header=0)\n",
    "# replace NA's with 0's\n",
    "nu_df.fillna(0,inplace=True)"
   ]
  },
  {
   "cell_type": "code",
   "execution_count": 6,
   "metadata": {},
   "outputs": [],
   "source": [
    "from scipy.constants import speed_of_light as speedlight\n",
    "#convert to np array\n",
    "nu = nu_df.values\n",
    "for ro in range(nu.shape[0]):\n",
    "    for co in range(nu.shape[1]):\n",
    "        if co == 0:\n",
    "        #Convert amino acid code from 3 letter to 1 letter\n",
    "            aa = nu[ro][co]\n",
    "            aa = aa[0:3].upper()\n",
    "            nu[ro][co]= aa_3to1[aa]\n",
    "        else:\n",
    "        # Convert from wavenumber to frequency\n",
    "        # wavelength = 1/wavenumber\n",
    "        # frequency = speed of light / wavelength\n",
    "            if nu[ro][co] > 0:\n",
    "                freq = speedlight / (1/nu[ro][co])"
   ]
  },
  {
   "cell_type": "code",
   "execution_count": 7,
   "metadata": {},
   "outputs": [],
   "source": [
    "aa_list = nu[:,0]      # list of amino acids\n",
    "nu = nu[:,1:]          # remove first column                \n",
    "max_freq = nu.max()    # max and min \n",
    "min_freq = nu.min()    # need to exclude first column\n",
    "human_range = 20000 - 20\n",
    "for ro in range(nu.shape[0]):\n",
    "    for co in range(nu.shape[1]):\n",
    "        if nu[ro][co] > 0:\n",
    "            # First scale to 0 to 1\n",
    "            nu[ro][co] = (nu[ro][co] - min_freq)/ max_freq - min_freq\n",
    "            # Scale to human hearing range 20 - 20000 Hz\n",
    "            nu[ro][co] = (nu[ro][co] * human_range) + 20"
   ]
  },
  {
   "cell_type": "code",
   "execution_count": 8,
   "metadata": {},
   "outputs": [],
   "source": [
    "import numpy as np\n",
    "\n",
    "def aa_note(aa,length):\n",
    "    row = np.where(aa_list == aa)[0][0]\n",
    "    wave = np.zeros(int(44100 * float(length)))\n",
    "    harm = 0\n",
    " \n",
    "    for freq in nu[row]:\n",
    "        if freq == 0:\n",
    "            break\n",
    "        else:\n",
    "            volume = np.exp(-harm)\n",
    "            phases = np.cumsum(2.0 * np.pi * freq / 44100 * np.ones(int(44100 * float(length))))\n",
    "            wave += np.sin(phases) * volume\n",
    "            harm += 1\n",
    "    # scale wave to values between 1 and -1\n",
    "    wave = 2.*(wave - wave.min())/np.ptp(wave)-1\n",
    "    return wave"
   ]
  },
  {
   "cell_type": "code",
   "execution_count": 9,
   "metadata": {},
   "outputs": [
    {
     "name": "stderr",
     "output_type": "stream",
     "text": [
      "ALSA lib pcm_dsnoop.c:567:(snd_pcm_dsnoop_open) unable to open slave\n",
      "ALSA lib pcm_dmix.c:1000:(snd_pcm_dmix_open) unable to open slave\n",
      "ALSA lib pcm.c:2721:(snd_pcm_open_noupdate) Unknown PCM cards.pcm.rear\n",
      "ALSA lib pcm.c:2721:(snd_pcm_open_noupdate) Unknown PCM cards.pcm.center_lfe\n",
      "ALSA lib pcm.c:2721:(snd_pcm_open_noupdate) Unknown PCM cards.pcm.side\n",
      "ALSA lib pcm_dmix.c:1000:(snd_pcm_dmix_open) unable to open slave\n"
     ]
    }
   ],
   "source": [
    "from synthesizer import Player, Synthesizer\n",
    "player = Player()\n",
    "player.open_stream()"
   ]
  },
  {
   "cell_type": "code",
   "execution_count": 10,
   "metadata": {},
   "outputs": [],
   "source": [
    "# a sample protein sequence\n",
    "protein_sequence = ''.join(protein_seq)\n",
    "unit_length = 0.2\n",
    "melodic_sequence = []\n",
    "for residue in protein_sequence:\n",
    "    sound_wave = aa_note(residue,unit_length)\n",
    "    melodic_sequence = melodic_sequence + sound_wave.tolist()\n",
    "melody = np.asarray(melodic_sequence)\n",
    "melody = 2*(melody - melody.min())/np.ptp(melody)-1"
   ]
  },
  {
   "cell_type": "code",
   "execution_count": 11,
   "metadata": {},
   "outputs": [],
   "source": [
    "player.play_wave(melody)\n"
   ]
  },
  {
   "cell_type": "code",
   "execution_count": 12,
   "metadata": {},
   "outputs": [],
   "source": [
    "from scipy.io.wavfile import write\n",
    "\n",
    "# Save the melody to a WAV file\n",
    "write(\"melody.wav\", 44100, melody.astype(np.float32))"
   ]
  },
  {
   "cell_type": "code",
   "execution_count": 12,
   "metadata": {},
   "outputs": [],
   "source": [
    "import numpy as np\n",
    "from scipy.spatial import Delaunay\n",
    "# Convert to numpy array and tessellate\n",
    "coordinates = np.asarray(coordinates,dtype=float)\n",
    "tess = Delaunay(coordinates)\n",
    "\n",
    "neighbors = {}\n",
    "# Go through each simplex, or groups of four neighbors\n",
    "for simplex in tess.simplices:  \n",
    "    for vertex in simplex:\n",
    "        # if neighbor group exists, add all neighbors and keep unique ones\n",
    "        if vertex in neighbors.keys():\n",
    "            neighbors[vertex] = np.unique(np.append(neighbors[vertex],simplex))\n",
    "        # if neighbor group doesn't exist, then create one\n",
    "        else:\n",
    "            neighbors[vertex] = simplex"
   ]
  },
  {
   "cell_type": "code",
   "execution_count": 13,
   "metadata": {},
   "outputs": [],
   "source": [
    "# dictionary that maps each amino acid to a row \n",
    "aa2row = {}\n",
    "aa = 'CDSQKIPTFNGHLRWAVEYM'\n",
    "for i,a in enumerate(aa):\n",
    "    aa2row[a] = i\n"
   ]
  },
  {
   "cell_type": "code",
   "execution_count": 39,
   "metadata": {},
   "outputs": [],
   "source": [
    "# get the protein sequence from the pdb file"
   ]
  },
  {
   "cell_type": "code",
   "execution_count": 14,
   "metadata": {},
   "outputs": [],
   "source": [
    "# adj matrix\n",
    "\n",
    "# create empty matrix\n",
    "music_matrix = np.zeros((20,len(protein_seq)),dtype='int') \n",
    "# go through each position in the protein sequence\n",
    "for i in range(len(protein_seq)):\n",
    "    # go through the neighbors at each position\n",
    "    for neighbor in neighbors[i]:\n",
    "        # exclude melody from accompaniment\n",
    "        if neighbor == i: \n",
    "            pass\n",
    "        # change cell value at row (amino acid) and col (position) \n",
    "        # from 0 to 1\n",
    "        else:\n",
    "            row = aa2row[protein_seq[neighbor]]\n",
    "            col = i\n",
    "            music_matrix[row][col] = 1"
   ]
  },
  {
   "cell_type": "code",
   "execution_count": 15,
   "metadata": {},
   "outputs": [],
   "source": [
    "for row in range(20):\n",
    "    for col in range(len(protein_seq)-1,0,-1):\n",
    "        if music_matrix[row][col-1] == 1:\n",
    "            music_matrix[row][col-1] += music_matrix[row][col]\n",
    "            music_matrix[row][col] = 0"
   ]
  },
  {
   "cell_type": "code",
   "execution_count": 16,
   "metadata": {},
   "outputs": [],
   "source": [
    "# apply envelope to reduce clipping\n",
    "secondary_structs = []\n",
    "with open(\"protein_surface.dssp\", \"r\") as f:\n",
    "    secondary_struct_text = f.readlines()\n",
    "for line in secondary_struct_text[28:]:\n",
    "    if line[13] != \"!\":\n",
    "        secondary_structs.append(line[16:18].strip())\n",
    "\n",
    "secondary_structure = np.array(secondary_structs)"
   ]
  },
  {
   "cell_type": "code",
   "execution_count": 17,
   "metadata": {},
   "outputs": [
    {
     "name": "stdout",
     "output_type": "stream",
     "text": [
      "5190565\n",
      "5190562\n",
      "5190559\n",
      "5190562\n",
      "5190561\n",
      "5190564\n",
      "5190567\n",
      "5190559\n",
      "5190564\n",
      "5190566\n",
      "5190565\n",
      "5190566\n",
      "5190565\n",
      "5190562\n",
      "5190569\n",
      "5190560\n",
      "5190567\n",
      "5190567\n",
      "5190569\n",
      "5190570\n"
     ]
    }
   ],
   "source": [
    "# go through each row in music matrix (amino acid)\n",
    "notes = []\n",
    "for row in range(20):\n",
    "    # create empty note\n",
    "    note = []\n",
    "    # begin at column 0\n",
    "    col = 0\n",
    "    while(col < len(protein_seq)):\n",
    "        # check secondary structure at that position to\n",
    "        # determine note length\n",
    "        if secondary_structure[col] == 'E':\n",
    "            secondary_structure_factor = 2\n",
    "        elif secondary_structure[col] == 'H':\n",
    "            secondary_structure_factor = 0.5\n",
    "        else:\n",
    "            secondary_structure_factor = 1\n",
    "        # build 'track' for each residue\n",
    "        res = aa[row] # which amino acid note to use\n",
    "        notelength = music_matrix[row][col] # length of the note\n",
    "        if notelength == 0:\n",
    "            # if length is zero then create note of correct length with volume 0\n",
    "            wave = np.zeros(int(44100 * float(unit_length * secondary_structure_factor)))\n",
    "            col += 1\n",
    "        else:\n",
    "            # if length is not zero, modify by secondary structure value\n",
    "            # at each position over length of note\n",
    "            total_length = 0\n",
    "            for i in range(notelength):\n",
    "                if secondary_structure[col+i] == 'E':\n",
    "                    total_length += unit_length*2\n",
    "                elif secondary_structure[col+i] == 'H':\n",
    "                    total_length += unit_length*0.5\n",
    "                else:\n",
    "                    total_length += unit_length*1\n",
    "            # build the note\n",
    "            sound_wave = aa_note(res,total_length)\n",
    "            # apply envelope to reduce clipping\n",
    "            #wave = envelope(sound_wave,total_length)\n",
    "            wave = sound_wave\n",
    "            # move through matrix to next column with a 0\n",
    "            col += int(notelength)\n",
    "        # add new note to the track\n",
    "        note = note + wave.tolist()\n",
    "    # correct for differences in the track lengths due to rounding\n",
    "    gap = len(notes) - len(note)\n",
    "    filler = [0.0]*gap\n",
    "    note = note + filler\n",
    "    # superpose note on notes, this is creating harmonies\n",
    "    print(len(note))\n",
    "    notes.append(note)"
   ]
  },
  {
   "cell_type": "code",
   "execution_count": 18,
   "metadata": {},
   "outputs": [],
   "source": [
    "obs_lengths = [len(a) for a in notes]\n",
    "max_length = max(obs_lengths)"
   ]
  },
  {
   "cell_type": "code",
   "execution_count": 19,
   "metadata": {},
   "outputs": [],
   "source": [
    "arr = np.zeros((len(notes),max_length))\n",
    "for i in range(len(notes)):\n",
    "    arr[i,:len(notes[i])] = notes[i]"
   ]
  },
  {
   "cell_type": "code",
   "execution_count": 20,
   "metadata": {},
   "outputs": [],
   "source": [
    "harmony = 0.1 * arr.sum(axis = 0)"
   ]
  },
  {
   "cell_type": "code",
   "execution_count": 21,
   "metadata": {},
   "outputs": [],
   "source": [
    "#include melody\n",
    "melody = []\n",
    "for i in range(len(protein_seq)):\n",
    "    residue = protein_seq[i]\n",
    "    if secondary_structure[i] == 'E':\n",
    "        length = 2.0*unit_length \n",
    "    elif secondary_structure[i] == 'H':\n",
    "        length = 0.5*unit_length \n",
    "    else:\n",
    "        length = 1*unit_length    \n",
    "    sound_wave = aa_note(residue,length)\n",
    "    env_wave = sound_wave#envelope(sound_wave,length)\n",
    "    melody = melody + env_wave.tolist()\n",
    "melody = melody + [0.0]*9\n",
    "melody = np.asarray(melody)\n",
    "#rescale to a bit less thanrange [-1,1]\n",
    "melody = 1.4*(melody - melody.min())/np.ptp(melody)-0.7"
   ]
  },
  {
   "cell_type": "code",
   "execution_count": 22,
   "metadata": {},
   "outputs": [],
   "source": [
    "# fill in gaps\n",
    "gap = len(melody) - len(harmony)\n",
    "if gap > 0:\n",
    "    filler = [0.0]*gap\n",
    "    harmony = harmony.tolist() + filler\n",
    "\n",
    "gap = len(harmony) - len(melody)\n",
    "if gap > 0:\n",
    "    filler = [0.0]*gap\n",
    "    melody = melody + filler\n",
    "\n"
   ]
  },
  {
   "cell_type": "code",
   "execution_count": 26,
   "metadata": {},
   "outputs": [],
   "source": [
    "from scipy.io.wavfile import write\n",
    "\n",
    "write(\"melody_2.wav\", 44100, melody.astype(np.float32))\n",
    "write(\"harmony_2.wav\", 44100, np.array(harmony).astype(np.float32))"
   ]
  },
  {
   "cell_type": "code",
   "execution_count": 28,
   "metadata": {},
   "outputs": [],
   "source": [
    "player.play_wave(np.array(harmony))"
   ]
  },
  {
   "cell_type": "code",
   "execution_count": 29,
   "metadata": {},
   "outputs": [],
   "source": [
    "complete_music = harmony + melody\n",
    "#rescale to a bit less than range [-1,1]\n",
    "complete_music = 1*(complete_music - complete_music.min())/np.ptp(complete_music)-0.5"
   ]
  },
  {
   "cell_type": "code",
   "execution_count": 34,
   "metadata": {},
   "outputs": [],
   "source": [
    "player.play_wave(complete_music)"
   ]
  },
  {
   "cell_type": "code",
   "execution_count": 51,
   "metadata": {},
   "outputs": [],
   "source": [
    "# save complete music to wav\n",
    "write(\"complete_music.wav\", 44100, complete_music.astype(np.float32))"
   ]
  }
 ],
 "metadata": {
  "kernelspec": {
   "display_name": "mfp",
   "language": "python",
   "name": "python3"
  },
  "language_info": {
   "codemirror_mode": {
    "name": "ipython",
    "version": 3
   },
   "file_extension": ".py",
   "mimetype": "text/x-python",
   "name": "python",
   "nbconvert_exporter": "python",
   "pygments_lexer": "ipython3",
   "version": "3.10.11"
  }
 },
 "nbformat": 4,
 "nbformat_minor": 2
}
